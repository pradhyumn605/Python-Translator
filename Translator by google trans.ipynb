{
 "cells": [
  {
   "cell_type": "code",
   "execution_count": 6,
   "metadata": {},
   "outputs": [
    {
     "name": "stdout",
     "output_type": "stream",
     "text": [
      "enter the text you want to translate\n",
      "यह पाठ मेरे अनुवादक कार्यक्रम के परीक्षण के लिए है। यह कोड अजगर के googletrans पुस्तकालय पर काम करता है\n",
      "Detected(lang=hi, confidence=1.0)\n",
      "This lesson is for testing my translator program. This code works on python's googletrans library\n"
     ]
    }
   ],
   "source": [
    "from googletrans import Translator\n",
    "print(\"enter the text you want to translate\")\n",
    "text=input()\n",
    "#text=\"यह पाठ मेरे अनुवादक कार्यक्रम के परीक्षण के लिए है। यह कोड अजगर के googletrans पुस्तकालय पर काम करता है\"\n",
    "#hindi it was - english it will be\n",
    "translator = Translator()\n",
    "dt= translator.detect(text)\n",
    "print(dt)\n",
    "translated = translator.translate(text)\n",
    "print(translated.text)"
   ]
  },
  {
   "cell_type": "code",
   "execution_count": null,
   "metadata": {},
   "outputs": [],
   "source": []
  }
 ],
 "metadata": {
  "kernelspec": {
   "display_name": "Python 3",
   "language": "python",
   "name": "python3"
  },
  "language_info": {
   "codemirror_mode": {
    "name": "ipython",
    "version": 3
   },
   "file_extension": ".py",
   "mimetype": "text/x-python",
   "name": "python",
   "nbconvert_exporter": "python",
   "pygments_lexer": "ipython3",
   "version": "3.8.3"
  }
 },
 "nbformat": 4,
 "nbformat_minor": 4
}
